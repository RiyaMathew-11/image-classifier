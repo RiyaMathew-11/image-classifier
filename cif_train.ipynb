{
 "cells": [
  {
   "cell_type": "code",
   "execution_count": 156,
   "metadata": {},
   "outputs": [],
   "source": [
    "import tensorflow as tf\n",
    "from tensorflow.keras import datasets, layers, models\n",
    "import matplotlib.pyplot as plt\n",
    "import numpy as np\n",
    "from sklearn.metrics import confusion_matrix , classification_report"
   ]
  },
  {
   "cell_type": "code",
   "execution_count": 67,
   "metadata": {},
   "outputs": [],
   "source": [
    "(train_images, train_labels), (test_images, test_labels) = datasets.cifar10.load_data()"
   ]
  },
  {
   "cell_type": "code",
   "execution_count": 71,
   "metadata": {},
   "outputs": [
    {
     "name": "stdout",
     "output_type": "stream",
     "text": [
      "Training Images:  (50000, 32, 32, 3)\n",
      "Training Labels:  (50000, 1)\n",
      "Testing Images:  (10000, 32, 32, 3)\n",
      "Testing Labels:  (10000, 1)\n"
     ]
    }
   ],
   "source": [
    "print(\"Training Images: \",train_images.shape)\n",
    "print(\"Training Labels: \",train_labels.shape)\n",
    "print(\"Testing Images: \",test_images.shape)\n",
    "print(\"Testing Labels: \",test_labels.shape)\n"
   ]
  },
  {
   "cell_type": "code",
   "execution_count": 83,
   "metadata": {},
   "outputs": [],
   "source": [
    "train_labels = train_labels.reshape(-1,)\n",
    "test_labels = test_labels.reshape(-1,)"
   ]
  },
  {
   "cell_type": "code",
   "execution_count": 142,
   "metadata": {},
   "outputs": [],
   "source": [
    "classes = [\"ship\", \"truck\",\"neither\"]"
   ]
  },
  {
   "cell_type": "code",
   "execution_count": 147,
   "metadata": {},
   "outputs": [],
   "source": [
    "def view_img(X, y, index):\n",
    "    plt.figure(figsize = (15,2))\n",
    "    plt.imshow(X[index])\n",
    "    if(y[index]==8):\n",
    "        plt.xlabel(classes[0])\n",
    "    elif(y[index]==9):\n",
    "        plt.xlabel(classes[1])\n",
    "    else: \n",
    "        plt.xlabel(classes[2])\n"
   ]
  },
  {
   "cell_type": "code",
   "execution_count": 148,
   "metadata": {},
   "outputs": [
    {
     "data": {
      "image/png": "[encoded data removed]",
      "text/plain": [
       "<Figure size 1080x144 with 1 Axes>"
      ]
     },
     "metadata": {
      "needs_background": "light"
     },
     "output_type": "display_data"
    }
   ],
   "source": [
    "view_img(train_images, train_labels, 8)"
   ]
  },
  {
   "cell_type": "code",
   "execution_count": 149,
   "metadata": {},
   "outputs": [
    {
     "data": {
      "image/png": "[encoded data removed]",
      "text/plain": [
       "<Figure size 1080x144 with 1 Axes>"
      ]
     },
     "metadata": {
      "needs_background": "light"
     },
     "output_type": "display_data"
    }
   ],
   "source": [
    "view_img(train_images, train_labels, 1)\n"
   ]
  },
  {
   "cell_type": "code",
   "execution_count": 150,
   "metadata": {},
   "outputs": [
    {
     "data": {
      "image/png": "[encoded data removed]",
      "text/plain": [
       "<Figure size 1080x144 with 1 Axes>"
      ]
     },
     "metadata": {
      "needs_background": "light"
     },
     "output_type": "display_data"
    }
   ],
   "source": [
    "view_img(train_images, train_labels, 4)"
   ]
  },
  {
   "cell_type": "code",
   "execution_count": 151,
   "metadata": {},
   "outputs": [],
   "source": [
    "train_images = train_images / 255.0\n",
    "test_images = test_images / 255.0\n"
   ]
  },
  {
   "cell_type": "markdown",
   "metadata": {},
   "source": [
    "### Simple ANN for image classification"
   ]
  },
  {
   "cell_type": "code",
   "execution_count": 158,
   "metadata": {},
   "outputs": [
    {
     "name": "stdout",
     "output_type": "stream",
     "text": [
      "Epoch 1/5\n",
      "1563/1563 [==============================] - 44s 28ms/step - loss: 1.8129 - accuracy: 0.3557\n",
      "Epoch 2/5\n",
      "1563/1563 [==============================] - 51s 33ms/step - loss: 1.6215 - accuracy: 0.4291\n",
      "Epoch 3/5\n",
      "1563/1563 [==============================] - 53s 34ms/step - loss: 1.5401 - accuracy: 0.4564\n",
      "Epoch 4/5\n",
      "1563/1563 [==============================] - 43s 28ms/step - loss: 1.4807 - accuracy: 0.4796\n",
      "Epoch 5/5\n",
      "1563/1563 [==============================] - 48s 30ms/step - loss: 1.4320 - accuracy: 0.4950\n"
     ]
    },
    {
     "data": {
      "text/plain": [
       "<keras.callbacks.History at 0x7f9032bd0220>"
      ]
     },
     "execution_count": 158,
     "metadata": {},
     "output_type": "execute_result"
    }
   ],
   "source": [
    "ann = models.Sequential([\n",
    "        layers.Flatten(input_shape=(32,32,3)),\n",
    "        layers.Dense(3000, activation='relu'),\n",
    "        layers.Dense(1000, activation='relu'),\n",
    "        layers.Dense(10, activation='softmax')    \n",
    "    ])\n",
    "\n",
    "ann.compile(optimizer='SGD',\n",
    "              loss='sparse_categorical_crossentropy',\n",
    "              metrics=['accuracy'])\n",
    "\n",
    "ann.fit(train_images, train_labels, epochs=5)\n"
   ]
  },
  {
   "cell_type": "code",
   "execution_count": 164,
   "metadata": {},
   "outputs": [],
   "source": [
    "labels_pred = ann.predict(test_images)\n",
    "labels_pred_classes = [np.argmax(element) for element in labels_pred]\n",
    "\n"
   ]
  },
  {
   "cell_type": "code",
   "execution_count": 165,
   "metadata": {},
   "outputs": [
    {
     "name": "stdout",
     "output_type": "stream",
     "text": [
      "Classification Report: \n",
      "               precision    recall  f1-score   support\n",
      "\n",
      "           0       0.67      0.41      0.51      1000\n",
      "           1       0.73      0.42      0.53      1000\n",
      "           2       0.34      0.45      0.38      1000\n",
      "           3       0.38      0.26      0.31      1000\n",
      "           4       0.42      0.43      0.42      1000\n",
      "           5       0.38      0.41      0.39      1000\n",
      "           6       0.58      0.41      0.48      1000\n",
      "           7       0.40      0.71      0.52      1000\n",
      "           8       0.68      0.56      0.62      1000\n",
      "           9       0.48      0.69      0.57      1000\n",
      "\n",
      "    accuracy                           0.47     10000\n",
      "   macro avg       0.51      0.47      0.47     10000\n",
      "weighted avg       0.51      0.47      0.47     10000\n",
      "\n"
     ]
    }
   ],
   "source": [
    "print(\"Classification Report: \\n\", classification_report(test_labels, labels_pred_classes))"
   ]
  },
  {
   "cell_type": "code",
   "execution_count": 166,
   "metadata": {},
   "outputs": [],
   "source": [
    "cnn = models.Sequential([\n",
    "    layers.Conv2D(filters=32, kernel_size=(3, 3), activation='relu', input_shape=(32, 32, 3)),\n",
    "    layers.MaxPooling2D((2, 2)),\n",
    "    \n",
    "    layers.Conv2D(filters=64, kernel_size=(3, 3), activation='relu'),\n",
    "    layers.MaxPooling2D((2, 2)),\n",
    "    \n",
    "    layers.Flatten(),\n",
    "    layers.Dense(64, activation='relu'),\n",
    "    layers.Dense(10, activation='softmax')\n",
    "])"
   ]
  },
  {
   "cell_type": "code",
   "execution_count": 167,
   "metadata": {},
   "outputs": [],
   "source": [
    "cnn.compile(optimizer='adam',\n",
    "              loss='sparse_categorical_crossentropy',\n",
    "              metrics=['accuracy'])"
   ]
  },
  {
   "cell_type": "code",
   "execution_count": 168,
   "metadata": {},
   "outputs": [
    {
     "name": "stdout",
     "output_type": "stream",
     "text": [
      "Epoch 1/10\n",
      "1563/1563 [==============================] - 25s 16ms/step - loss: 1.4781 - accuracy: 0.4696\n",
      "Epoch 2/10\n",
      "1563/1563 [==============================] - 23s 15ms/step - loss: 1.1271 - accuracy: 0.6065\n",
      "Epoch 3/10\n",
      "1563/1563 [==============================] - 23s 15ms/step - loss: 0.9990 - accuracy: 0.6546\n",
      "Epoch 4/10\n",
      "1563/1563 [==============================] - 23s 15ms/step - loss: 0.9127 - accuracy: 0.6834\n",
      "Epoch 5/10\n",
      "1563/1563 [==============================] - 23s 15ms/step - loss: 0.8428 - accuracy: 0.7093\n",
      "Epoch 6/10\n",
      "1563/1563 [==============================] - 27s 17ms/step - loss: 0.7850 - accuracy: 0.7277\n",
      "Epoch 7/10\n",
      "1563/1563 [==============================] - 23s 15ms/step - loss: 0.7268 - accuracy: 0.7495\n",
      "Epoch 8/10\n",
      "1563/1563 [==============================] - 174s 111ms/step - loss: 0.6813 - accuracy: 0.7646\n",
      "Epoch 9/10\n",
      "1563/1563 [==============================] - 468s 299ms/step - loss: 0.6394 - accuracy: 0.7781 - loss: 0.6395 - accu\n",
      "Epoch 10/10\n",
      "1563/1563 [==============================] - 29s 19ms/step - loss: 0.5988 - accuracy: 0.7919\n"
     ]
    },
    {
     "data": {
      "text/plain": [
       "<keras.callbacks.History at 0x7f900177a3a0>"
      ]
     },
     "execution_count": 168,
     "metadata": {},
     "output_type": "execute_result"
    }
   ],
   "source": [
    "cnn.fit(train_images, train_labels, epochs=10)"
   ]
  },
  {
   "cell_type": "code",
   "execution_count": 169,
   "metadata": {},
   "outputs": [
    {
     "name": "stdout",
     "output_type": "stream",
     "text": [
      "313/313 [==============================] - 1s 2ms/step - loss: 0.9344 - accuracy: 0.7044\n"
     ]
    },
    {
     "data": {
      "text/plain": [
       "[0.9343503713607788, 0.7044000029563904]"
      ]
     },
     "execution_count": 169,
     "metadata": {},
     "output_type": "execute_result"
    }
   ],
   "source": [
    "cnn.evaluate(test_images,test_labels)"
   ]
  },
  {
   "cell_type": "code",
   "execution_count": 171,
   "metadata": {},
   "outputs": [
    {
     "data": {
      "text/plain": [
       "array([[1.16224219e-04, 1.10205910e-05, 1.26942678e-05, 9.36435938e-01,\n",
       "        1.74196812e-05, 1.44118788e-02, 2.58923247e-02, 2.89939521e-08,\n",
       "        2.30995305e-02, 2.87216358e-06],\n",
       "       [7.39833899e-03, 3.35219651e-01, 1.13068390e-05, 9.07770982e-07,\n",
       "        1.69606793e-07, 7.31778798e-08, 3.98141594e-07, 3.65743236e-09,\n",
       "        6.56967580e-01, 4.01620142e-04],\n",
       "       [7.26084590e-01, 1.21132411e-01, 4.44719160e-04, 2.43814453e-03,\n",
       "        9.19958693e-04, 1.12165551e-04, 4.10234439e-04, 2.36859312e-03,\n",
       "        4.71262410e-02, 9.89630669e-02],\n",
       "       [9.49265420e-01, 4.30024276e-03, 1.33505405e-03, 4.90603619e-04,\n",
       "        2.68044736e-04, 2.25356666e-06, 6.86145446e-04, 1.65194360e-05,\n",
       "        4.36026007e-02, 3.31617121e-05],\n",
       "       [1.33350045e-06, 9.74451632e-06, 1.38358116e-01, 2.02100232e-01,\n",
       "        1.84977278e-01, 3.72695085e-03, 4.70648438e-01, 6.49755236e-08,\n",
       "        1.77880967e-04, 1.42555034e-08]], dtype=float32)"
      ]
     },
     "execution_count": 171,
     "metadata": {},
     "output_type": "execute_result"
    }
   ],
   "source": [
    "label_pred = cnn.predict(test_images)\n",
    "label_pred[:5]"
   ]
  },
  {
   "cell_type": "code",
   "execution_count": 172,
   "metadata": {},
   "outputs": [
    {
     "data": {
      "text/plain": [
       "[3, 8, 0, 0, 6]"
      ]
     },
     "execution_count": 172,
     "metadata": {},
     "output_type": "execute_result"
    }
   ],
   "source": [
    "labelled_classes = [np.argmax(element) for element in label_pred]\n",
    "labelled_classes[:5]"
   ]
  },
  {
   "cell_type": "code",
   "execution_count": 178,
   "metadata": {},
   "outputs": [
    {
     "data": {
      "image/png": "[encoded data removed]",
      "text/plain": [
       "<Figure size 1080x144 with 1 Axes>"
      ]
     },
     "metadata": {
      "needs_background": "light"
     },
     "output_type": "display_data"
    }
   ],
   "source": [
    "view_img(test_images, test_labels,14)"
   ]
  },
  {
   "cell_type": "code",
   "execution_count": null,
   "metadata": {},
   "outputs": [],
   "source": []
  }
 ],
 "metadata": {
  "kernelspec": {
   "display_name": "Python 3 (ipykernel)",
   "language": "python",
   "name": "python3"
  },
  "language_info": {
   "codemirror_mode": {
    "name": "ipython",
    "version": 3
   },
   "file_extension": ".py",
   "mimetype": "text/x-python",
   "name": "python",
   "nbconvert_exporter": "python",
   "pygments_lexer": "ipython3",
   "version": "3.8.3"
  }
 },
 "nbformat": 4,
 "nbformat_minor": 1
}